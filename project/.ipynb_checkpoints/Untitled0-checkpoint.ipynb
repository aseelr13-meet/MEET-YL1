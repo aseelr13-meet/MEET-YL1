{
 "metadata": {
  "name": ""
 },
 "nbformat": 3,
 "nbformat_minor": 0,
 "worksheets": [
  {
   "cells": [
    {
     "cell_type": "code",
     "collapsed": false,
     "input": [
      "import csv"
     ],
     "language": "python",
     "metadata": {},
     "outputs": [],
     "prompt_number": 1
    },
    {
     "cell_type": "code",
     "collapsed": false,
     "input": [
      "f = open('cheese.csv', 'rb')\n",
      "reader = csv.reader(f)\n",
      "rownum = 0\n",
      "taste = []\n",
      "acetic = []\n",
      "for row in reader:\n",
      "    if rownum != 0 :\n",
      "        a = row[0]\n",
      "        r = a.split()\n",
      "        b = r[1::]\n",
      "        d = map(float ,r )\n",
      "        taste.append(d[1])\n",
      "        acetic.append(d[2])\n",
      "    rownum += 1\n",
      "\n",
      "print taste\n",
      "print acitic\n",
      "        \n",
      "f.close()\n"
     ],
     "language": "python",
     "metadata": {},
     "outputs": [
      {
       "output_type": "stream",
       "stream": "stdout",
       "text": [
        "[12.3, 20.9, 39.0, 47.9, 5.6, 25.9, 37.3, 21.9, 18.1, 21.0, 34.9, 57.2, 0.7, 25.9, 54.9, 40.9, 15.9, 6.4, 18.0, 38.9, 14.0, 15.2, 32.0, 56.7, 16.8, 11.6, 26.5, 0.7, 13.4, 5.5]\n",
        "[]\n"
       ]
      }
     ],
     "prompt_number": 49
    },
    {
     "cell_type": "code",
     "collapsed": false,
     "input": [],
     "language": "python",
     "metadata": {},
     "outputs": [],
     "prompt_number": 37
    },
    {
     "cell_type": "code",
     "collapsed": false,
     "input": [],
     "language": "python",
     "metadata": {},
     "outputs": [],
     "prompt_number": 35
    },
    {
     "cell_type": "code",
     "collapsed": false,
     "input": [],
     "language": "python",
     "metadata": {},
     "outputs": []
    }
   ],
   "metadata": {}
  }
 ]
}